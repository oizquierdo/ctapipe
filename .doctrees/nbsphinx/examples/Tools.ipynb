{
 "cells": [
  {
   "cell_type": "markdown",
   "metadata": {},
   "source": [
    "# Creating command-line Tools"
   ]
  },
  {
   "cell_type": "code",
   "execution_count": 1,
   "metadata": {},
   "outputs": [],
   "source": [
    "from ctapipe.core import Tool, Component\n",
    "from ctapipe.core.traits import (Integer, Float, List, Dict,Unicode, TraitError, observe)\n",
    "import logging\n",
    "from time import sleep"
   ]
  },
  {
   "cell_type": "markdown",
   "metadata": {},
   "source": [
    "see https://github.com/ipython/traitlets/blob/master/examples/myapp.py"
   ]
  },
  {
   "cell_type": "markdown",
   "metadata": {},
   "source": [
    "## Setup:\n",
    "\n",
    "Create a few `Component`s that we will use later in a `Tool`:"
   ]
  },
  {
   "cell_type": "code",
   "execution_count": 2,
   "metadata": {},
   "outputs": [],
   "source": [
    "class MyComponent(Component):\n",
    "    \"\"\" A Component that does stuff \"\"\"\n",
    "    value = Integer(default_value=-1, help=\"Value to use\").tag(config=True)\n",
    "\n",
    "    def do_thing(self):\n",
    "        self.log.debug(\"Did thing\")\n",
    "\n",
    "# in order to have 2 of the same components at once\n",
    "class SecondaryMyComponent(MyComponent):\n",
    "    pass\n",
    "\n",
    "\n",
    "class AdvancedComponent(Component):\n",
    "    \"\"\" An advanced technique \"\"\"\n",
    "\n",
    "    value1 = Integer(default_value=-1, help=\"Value to use\").tag(config=True)\n",
    "    infile = Unicode(help=\"input file name\").tag(config=True)\n",
    "    outfile = Unicode(help=\"output file name\").tag(config=True)\n",
    "\n",
    "    @observe('outfile')\n",
    "    def on_outfile_changed(self, change):\n",
    "        self.log.warning(\"Outfile was changed to '{}'\".format(change))"
   ]
  },
  {
   "cell_type": "code",
   "execution_count": 3,
   "metadata": {},
   "outputs": [
    {
     "data": {
      "text/html": [
       "<b>MyComponent</b>\n",
       "<p>  A Component that does stuff  </p>\n",
       "<table>\n",
       "<tr><th>value</th>\n",
       "<td>-1</td>\n",
       "<td style=\"text-align:left\"><i>Value to use (default: -1)</i></td></tr>\n",
       "</table>"
      ],
      "text/plain": [
       "<__main__.MyComponent at 0x7f24a96b8080>"
      ]
     },
     "execution_count": 3,
     "metadata": {},
     "output_type": "execute_result"
    }
   ],
   "source": [
    "MyComponent()"
   ]
  },
  {
   "cell_type": "code",
   "execution_count": 4,
   "metadata": {},
   "outputs": [
    {
     "data": {
      "text/html": [
       "<b>AdvancedComponent</b>\n",
       "<p>  An advanced technique  </p>\n",
       "<table>\n",
       "<tr><th>infile</th>\n",
       "<td></td>\n",
       "<td style=\"text-align:left\"><i>input file name (default: )</i></td></tr>\n",
       "<tr><th>outfile</th>\n",
       "<td></td>\n",
       "<td style=\"text-align:left\"><i>output file name (default: )</i></td></tr>\n",
       "<tr><th>value1</th>\n",
       "<td>-1</td>\n",
       "<td style=\"text-align:left\"><i>Value to use (default: -1)</i></td></tr>\n",
       "</table>"
      ],
      "text/plain": [
       "<__main__.AdvancedComponent at 0x7f24c8d50358>"
      ]
     },
     "execution_count": 4,
     "metadata": {},
     "output_type": "execute_result"
    }
   ],
   "source": [
    "AdvancedComponent()"
   ]
  },
  {
   "cell_type": "markdown",
   "metadata": {},
   "source": [
    "## Now create an executable Tool that contains the Components"
   ]
  },
  {
   "cell_type": "code",
   "execution_count": 5,
   "metadata": {},
   "outputs": [],
   "source": [
    "class MyTool(Tool):\n",
    "    name=\"mytool\"\n",
    "    description=\"do some things and stuff\"\n",
    "    aliases = Dict(dict(infile='AdvancedComponent.infile',\n",
    "                        iterations='MyTool.iterations'))\n",
    "\n",
    "    # Which classes are registered for configuration\n",
    "    classes = List([MyComponent, AdvancedComponent, SecondaryMyComponent])\n",
    "\n",
    "    # local configuration parameters\n",
    "    iterations = Integer(5,help=\"Number of times to run\",allow_none=False).tag(config=True)\n",
    "\n",
    "    def setup_comp(self):\n",
    "        # when constructing Components, you must add them to the \n",
    "        # list of registered instances using add_component. This allows\n",
    "        # the full configuration to be tracked\n",
    "        self.comp = self.add_component(MyComponent(parent=self))\n",
    "        self.comp2 = self.add_component(SecondaryMyComponent(parent=self))\n",
    "        \n",
    "\n",
    "    def setup_advanced(self):\n",
    "        self.advanced = self.add_component(AdvancedComponent(parent=self))\n",
    "\n",
    "    def setup(self):\n",
    "        self.setup_comp()\n",
    "        self.setup_advanced()\n",
    "\n",
    "    def start(self):\n",
    "        self.log.info(\"Performing {} iterations...\".format(self.iterations))\n",
    "        for ii in range(self.iterations):\n",
    "            self.log.info(\"ITERATION {}\".format(ii))\n",
    "            self.comp.do_thing()\n",
    "            self.comp2.do_thing()\n",
    "            sleep(0.1)\n",
    "            \n",
    "    def finish(self):\n",
    "        self.log.warning(\"Shutting down.\")\n",
    "    "
   ]
  },
  {
   "cell_type": "markdown",
   "metadata": {},
   "source": [
    "## Get Help info\n",
    "\n",
    "The following allows you to print the help info within a Jupyter notebook, but this same inforamtion would be displayed if the user types:\n",
    "```\n",
    "  mytool --help\n",
    "```"
   ]
  },
  {
   "cell_type": "code",
   "execution_count": 6,
   "metadata": {},
   "outputs": [],
   "source": [
    "tool=MyTool()"
   ]
  },
  {
   "cell_type": "code",
   "execution_count": 7,
   "metadata": {},
   "outputs": [
    {
     "name": "stdout",
     "output_type": "stream",
     "text": [
      "do some things and stuff\n",
      "\n",
      "Options\n",
      "-------\n",
      "\n",
      "Arguments that take values are actually convenience aliases to full\n",
      "Configurables, whose aliases are listed on the help line. For more information\n",
      "on full configurables, see '--help-all'.\n",
      "\n",
      "--infile=<Unicode> (AdvancedComponent.infile)\n",
      "    Default: ''\n",
      "    input file name\n",
      "--iterations=<Int> (MyTool.iterations)\n",
      "    Default: 5\n",
      "    Number of times to run\n",
      "--log-level=<Enum> (Application.log_level)\n",
      "    Default: 30\n",
      "    Choices: (0, 10, 20, 30, 40, 50, 'DEBUG', 'INFO', 'WARN', 'ERROR', 'CRITICAL')\n",
      "    Set the log level by value or name.\n",
      "--config=<Unicode> (Tool.config_file)\n",
      "    Default: ''\n",
      "    name of a configuration file with parameters to load in addition to command-\n",
      "    line parameters\n",
      "\n",
      "To see all available configurables, use `--help-all`\n",
      "\n"
     ]
    }
   ],
   "source": [
    "tool.print_help()"
   ]
  },
  {
   "cell_type": "markdown",
   "metadata": {},
   "source": [
    "The following  is equivalant to the user typing `mytool --help-all`"
   ]
  },
  {
   "cell_type": "code",
   "execution_count": 8,
   "metadata": {},
   "outputs": [
    {
     "name": "stdout",
     "output_type": "stream",
     "text": [
      "do some things and stuff\n",
      "\n",
      "Options\n",
      "-------\n",
      "\n",
      "Arguments that take values are actually convenience aliases to full\n",
      "Configurables, whose aliases are listed on the help line. For more information\n",
      "on full configurables, see '--help-all'.\n",
      "\n",
      "--infile=<Unicode> (AdvancedComponent.infile)\n",
      "    Default: ''\n",
      "    input file name\n",
      "--iterations=<Int> (MyTool.iterations)\n",
      "    Default: 5\n",
      "    Number of times to run\n",
      "--log-level=<Enum> (Application.log_level)\n",
      "    Default: 30\n",
      "    Choices: (0, 10, 20, 30, 40, 50, 'DEBUG', 'INFO', 'WARN', 'ERROR', 'CRITICAL')\n",
      "    Set the log level by value or name.\n",
      "--config=<Unicode> (Tool.config_file)\n",
      "    Default: ''\n",
      "    name of a configuration file with parameters to load in addition to command-\n",
      "    line parameters\n",
      "\n",
      "Class parameters\n",
      "----------------\n",
      "\n",
      "Parameters are set from command-line arguments of the form:\n",
      "`--Class.trait=value`. This line is evaluated in Python, so simple expressions\n",
      "are allowed, e.g.:: `--C.a='range(3)'` For setting C.a=[0,1,2].\n",
      "\n",
      "MyTool options\n",
      "--------------\n",
      "--MyTool.config_file=<Unicode>\n",
      "    Default: ''\n",
      "    name of a configuration file with parameters to load in addition to command-\n",
      "    line parameters\n",
      "--MyTool.iterations=<Int>\n",
      "    Default: 5\n",
      "    Number of times to run\n",
      "--MyTool.log_datefmt=<Unicode>\n",
      "    Default: '%Y-%m-%d %H:%M:%S'\n",
      "    The date format used by logging formatters for %(asctime)s\n",
      "--MyTool.log_format=<Unicode>\n",
      "    Default: '%(levelname)s [%(name)s] (%(module)s/%(funcName)s): %(messag...\n",
      "    The Logging format template\n",
      "--MyTool.log_level=<Enum>\n",
      "    Default: 30\n",
      "    Choices: (0, 10, 20, 30, 40, 50, 'DEBUG', 'INFO', 'WARN', 'ERROR', 'CRITICAL')\n",
      "    Set the log level by value or name.\n",
      "\n",
      "MyComponent options\n",
      "-------------------\n",
      "--MyComponent.value=<Int>\n",
      "    Default: -1\n",
      "    Value to use\n",
      "\n",
      "AdvancedComponent options\n",
      "-------------------------\n",
      "--AdvancedComponent.infile=<Unicode>\n",
      "    Default: ''\n",
      "    input file name\n",
      "--AdvancedComponent.outfile=<Unicode>\n",
      "    Default: ''\n",
      "    output file name\n",
      "--AdvancedComponent.value1=<Int>\n",
      "    Default: -1\n",
      "    Value to use\n",
      "\n",
      "SecondaryMyComponent options\n",
      "----------------------------\n",
      "--SecondaryMyComponent.value=<Int>\n",
      "    Default: -1\n",
      "    Value to use\n",
      "\n"
     ]
    }
   ],
   "source": [
    "tool.print_help(classes=True)"
   ]
  },
  {
   "cell_type": "markdown",
   "metadata": {},
   "source": [
    "## Run the tool\n",
    "\n",
    "here we pass in argv since it is a Notebook, but if argv is not specified it's read from `sys.argv`, so the following is the same as running:\n",
    "\n",
    "```sh\n",
    "mytool --log_level=INFO --infile bork.txt --iterations=3\n",
    "```"
   ]
  },
  {
   "cell_type": "code",
   "execution_count": 9,
   "metadata": {},
   "outputs": [
    {
     "name": "stderr",
     "output_type": "stream",
     "text": [
      "\u001b[1;32mINFO\u001b[0m [MyTool] (tool/initialize): ctapipe version 0.7.0.post132+git12d768d\n"
     ]
    },
    {
     "name": "stderr",
     "output_type": "stream",
     "text": [
      "\u001b[1;32mINFO\u001b[0m [MyTool] (tool/run): Starting: mytool\n"
     ]
    },
    {
     "name": "stderr",
     "output_type": "stream",
     "text": [
      "\u001b[1;32mINFO\u001b[0m [MyTool] (tool/run): CONFIG: {'MyTool': {'config_file': '', 'iterations': 5, 'log_datefmt': '%Y-%m-%d %H:%M:%S', 'log_format': '%(levelname)s [%(name)s] (%(module)s/%(funcName)s): %(message)s', 'log_level': 20}, 'MyComponent': {'value': -1}, 'SecondaryMyComponent': {'value': -1}, 'AdvancedComponent': {'infile': '', 'outfile': '', 'value1': -1}}\n"
     ]
    },
    {
     "name": "stderr",
     "output_type": "stream",
     "text": [
      "\u001b[1;32mINFO\u001b[0m [MyTool] (<ipython-input-5-6ca0c3418416>/start): Performing 5 iterations...\n"
     ]
    },
    {
     "name": "stderr",
     "output_type": "stream",
     "text": [
      "\u001b[1;32mINFO\u001b[0m [MyTool] (<ipython-input-5-6ca0c3418416>/start): ITERATION 0\n"
     ]
    },
    {
     "name": "stderr",
     "output_type": "stream",
     "text": [
      "\u001b[1;32mINFO\u001b[0m [MyTool] (<ipython-input-5-6ca0c3418416>/start): ITERATION 1\n"
     ]
    },
    {
     "name": "stderr",
     "output_type": "stream",
     "text": [
      "\u001b[1;32mINFO\u001b[0m [MyTool] (<ipython-input-5-6ca0c3418416>/start): ITERATION 2\n"
     ]
    },
    {
     "name": "stderr",
     "output_type": "stream",
     "text": [
      "\u001b[1;32mINFO\u001b[0m [MyTool] (<ipython-input-5-6ca0c3418416>/start): ITERATION 3\n"
     ]
    },
    {
     "name": "stderr",
     "output_type": "stream",
     "text": [
      "\u001b[1;32mINFO\u001b[0m [MyTool] (<ipython-input-5-6ca0c3418416>/start): ITERATION 4\n"
     ]
    },
    {
     "name": "stderr",
     "output_type": "stream",
     "text": [
      "\u001b[1;33mWARNING\u001b[0m [MyTool] (<ipython-input-5-6ca0c3418416>/finish): Shutting down.\n"
     ]
    },
    {
     "name": "stderr",
     "output_type": "stream",
     "text": [
      "\u001b[1;32mINFO\u001b[0m [MyTool] (tool/run): Finished: mytool\n"
     ]
    },
    {
     "name": "stderr",
     "output_type": "stream",
     "text": [
      "\u001b[1;32mINFO\u001b[0m [MyTool] (tool/run): Output: \n"
     ]
    }
   ],
   "source": [
    "tool.run(argv=[])"
   ]
  },
  {
   "cell_type": "code",
   "execution_count": 10,
   "metadata": {},
   "outputs": [
    {
     "name": "stderr",
     "output_type": "stream",
     "text": [
      "2020-01-29 16:27:59 : \u001b[1;32mINFO\u001b[0m [MyTool initialize] ctapipe version 0.7.0.post132+git12d768d\n"
     ]
    },
    {
     "name": "stderr",
     "output_type": "stream",
     "text": [
      "2020-01-29 16:27:59 : \u001b[1;32mINFO\u001b[0m [MyTool run] Starting: mytool\n"
     ]
    },
    {
     "name": "stderr",
     "output_type": "stream",
     "text": [
      "2020-01-29 16:27:59 : \u001b[1;32mINFO\u001b[0m [MyTool run] CONFIG: {'MyTool': {'config_file': '', 'iterations': 3, 'log_datefmt': '%Y-%m-%d %H:%M:%S', 'log_format': '%(asctime)s : %(levelname)s [%(name)s %(funcName)s] %(message)s', 'log_level': 20}, 'MyComponent': {'value': -1}, 'SecondaryMyComponent': {'value': -1}, 'AdvancedComponent': {'infile': 'bork.txt', 'outfile': '', 'value1': -1}}\n"
     ]
    },
    {
     "name": "stderr",
     "output_type": "stream",
     "text": [
      "2020-01-29 16:27:59 : \u001b[1;32mINFO\u001b[0m [MyTool start] Performing 3 iterations...\n"
     ]
    },
    {
     "name": "stderr",
     "output_type": "stream",
     "text": [
      "2020-01-29 16:27:59 : \u001b[1;32mINFO\u001b[0m [MyTool start] ITERATION 0\n"
     ]
    },
    {
     "name": "stderr",
     "output_type": "stream",
     "text": [
      "2020-01-29 16:27:59 : \u001b[1;32mINFO\u001b[0m [MyTool start] ITERATION 1\n"
     ]
    },
    {
     "name": "stderr",
     "output_type": "stream",
     "text": [
      "2020-01-29 16:27:59 : \u001b[1;32mINFO\u001b[0m [MyTool start] ITERATION 2\n"
     ]
    },
    {
     "name": "stderr",
     "output_type": "stream",
     "text": [
      "2020-01-29 16:27:59 : \u001b[1;33mWARNING\u001b[0m [MyTool finish] Shutting down.\n"
     ]
    },
    {
     "name": "stderr",
     "output_type": "stream",
     "text": [
      "2020-01-29 16:27:59 : \u001b[1;32mINFO\u001b[0m [MyTool run] Finished: mytool\n"
     ]
    },
    {
     "name": "stderr",
     "output_type": "stream",
     "text": [
      "2020-01-29 16:27:59 : \u001b[1;32mINFO\u001b[0m [MyTool run] Output: \n"
     ]
    },
    {
     "name": "stderr",
     "output_type": "stream",
     "text": [
      "2020-01-29 16:27:59 : \u001b[1;32mINFO\u001b[0m [MyTool run] Output: \n"
     ]
    }
   ],
   "source": [
    "tool.log_format = \"%(asctime)s : %(levelname)s [%(name)s %(funcName)s] %(message)s\" \n",
    "tool.run(argv=['--log-level','INFO','--infile','bork.txt','--iterations','3'])"
   ]
  },
  {
   "cell_type": "markdown",
   "metadata": {},
   "source": [
    "here we change the log-level to DEBUG:"
   ]
  },
  {
   "cell_type": "code",
   "execution_count": 11,
   "metadata": {},
   "outputs": [
    {
     "name": "stderr",
     "output_type": "stream",
     "text": [
      "2020-01-29 16:27:59 : \u001b[1;32mINFO\u001b[0m [MyTool initialize] ctapipe version 0.7.0.post132+git12d768d\n"
     ]
    },
    {
     "name": "stderr",
     "output_type": "stream",
     "text": [
      "2020-01-29 16:27:59 : \u001b[1;32mINFO\u001b[0m [MyTool run] Starting: mytool\n"
     ]
    },
    {
     "name": "stderr",
     "output_type": "stream",
     "text": [
      "2020-01-29 16:27:59 : \u001b[1;32mINFO\u001b[0m [MyTool run] CONFIG: {'MyTool': {'config_file': '', 'iterations': 3, 'log_datefmt': '%Y-%m-%d %H:%M:%S', 'log_format': '%(asctime)s : %(levelname)s [%(name)s %(funcName)s] %(message)s', 'log_level': 10}, 'MyComponent': {'value': -1}, 'SecondaryMyComponent': {'value': -1}, 'AdvancedComponent': {'infile': 'bork.txt', 'outfile': '', 'value1': -1}}\n"
     ]
    },
    {
     "name": "stderr",
     "output_type": "stream",
     "text": [
      "2020-01-29 16:27:59 : \u001b[1;32mINFO\u001b[0m [MyTool start] Performing 3 iterations...\n"
     ]
    },
    {
     "name": "stderr",
     "output_type": "stream",
     "text": [
      "2020-01-29 16:27:59 : \u001b[1;32mINFO\u001b[0m [MyTool start] ITERATION 0\n"
     ]
    },
    {
     "name": "stderr",
     "output_type": "stream",
     "text": [
      "2020-01-29 16:27:59 : \u001b[1;34mDEBUG\u001b[0m [MyTool.MyComponent do_thing] Did thing\n"
     ]
    },
    {
     "name": "stderr",
     "output_type": "stream",
     "text": [
      "2020-01-29 16:27:59 : \u001b[1;34mDEBUG\u001b[0m [MyTool.SecondaryMyComponent do_thing] Did thing\n"
     ]
    },
    {
     "name": "stderr",
     "output_type": "stream",
     "text": [
      "2020-01-29 16:27:59 : \u001b[1;32mINFO\u001b[0m [MyTool start] ITERATION 1\n"
     ]
    },
    {
     "name": "stderr",
     "output_type": "stream",
     "text": [
      "2020-01-29 16:27:59 : \u001b[1;34mDEBUG\u001b[0m [MyTool.MyComponent do_thing] Did thing\n"
     ]
    },
    {
     "name": "stderr",
     "output_type": "stream",
     "text": [
      "2020-01-29 16:27:59 : \u001b[1;34mDEBUG\u001b[0m [MyTool.SecondaryMyComponent do_thing] Did thing\n"
     ]
    },
    {
     "name": "stderr",
     "output_type": "stream",
     "text": [
      "2020-01-29 16:27:59 : \u001b[1;32mINFO\u001b[0m [MyTool start] ITERATION 2\n"
     ]
    },
    {
     "name": "stderr",
     "output_type": "stream",
     "text": [
      "2020-01-29 16:27:59 : \u001b[1;34mDEBUG\u001b[0m [MyTool.MyComponent do_thing] Did thing\n"
     ]
    },
    {
     "name": "stderr",
     "output_type": "stream",
     "text": [
      "2020-01-29 16:27:59 : \u001b[1;34mDEBUG\u001b[0m [MyTool.SecondaryMyComponent do_thing] Did thing\n"
     ]
    },
    {
     "name": "stderr",
     "output_type": "stream",
     "text": [
      "2020-01-29 16:27:59 : \u001b[1;33mWARNING\u001b[0m [MyTool finish] Shutting down.\n"
     ]
    },
    {
     "name": "stderr",
     "output_type": "stream",
     "text": [
      "2020-01-29 16:27:59 : \u001b[1;32mINFO\u001b[0m [MyTool run] Finished: mytool\n"
     ]
    },
    {
     "name": "stderr",
     "output_type": "stream",
     "text": [
      "2020-01-29 16:27:59 : \u001b[1;32mINFO\u001b[0m [MyTool run] Output: \n"
     ]
    },
    {
     "name": "stderr",
     "output_type": "stream",
     "text": [
      "2020-01-29 16:27:59 : \u001b[1;32mINFO\u001b[0m [MyTool run] Output: \n"
     ]
    },
    {
     "name": "stderr",
     "output_type": "stream",
     "text": [
      "2020-01-29 16:27:59 : \u001b[1;32mINFO\u001b[0m [MyTool run] Output: \n"
     ]
    },
    {
     "name": "stderr",
     "output_type": "stream",
     "text": [
      "2020-01-29 16:27:59 : \u001b[1;34mDEBUG\u001b[0m [MyTool run] PROVENANCE: '[\n",
      "   {\n",
      "      \"activity_name\": \"mytool\",\n",
      "      \"activity_uuid\": \"53fe4815-9dba-47ba-acfe-64e662567602\",\n",
      "      \"start\": {\n",
      "         \"time_utc\": \"2020-01-29T16:27:58.341\"\n",
      "      },\n",
      "      \"stop\": {\n",
      "         \"time_utc\": \"2020-01-29T16:27:59.115\"\n",
      "      },\n",
      "      \"system\": {\n",
      "         \"ctapipe_version\": \"0.7.0.post132+git12d768d\",\n",
      "         \"ctapipe_resources_version\": \"0.2.18\",\n",
      "         \"pyhessio_version\": \"2.1.1\",\n",
      "         \"eventio_version\": \"1.0.0\",\n",
      "         \"ctapipe_svc_path\": null,\n",
      "         \"executable\": \"/home/travis/virtualenv/python3.6.7/bin/python\",\n",
      "         \"platform\": {\n",
      "            \"architecture_bits\": \"64bit\",\n",
      "            \"architecture_linkage\": \"ELF\",\n",
      "            \"machine\": \"x86_64\",\n",
      "            \"processor\": \"x86_64\",\n",
      "            \"node\": \"travis-job-d399fa77-c587-4472-acce-4628cc3d4a24\",\n",
      "            \"version\": \"#29~16.04.1-Ubuntu SMP Tue Feb 12 16:31:10 UTC 2019\",\n",
      "            \"system\": \"Linux\",\n",
      "            \"release\": \"4.15.0-1028-gcp\",\n",
      "            \"libcver\": [\n",
      "               \"glibc\",\n",
      "               \"2.3.4\"\n",
      "            ],\n",
      "            \"num_cpus\": 2,\n",
      "            \"boot_time\": \"2020-01-29T16:20:37.000\"\n",
      "         },\n",
      "         \"python\": {\n",
      "            \"version_string\": \"3.6.7 (default, Nov 28 2018, 13:38:24) \\n[GCC 5.4.0 20160609]\",\n",
      "            \"version\": [\n",
      "               \"3\",\n",
      "               \"6\",\n",
      "               \"7\"\n",
      "            ],\n",
      "            \"compiler\": \"GCC 5.4.0 20160609\",\n",
      "            \"implementation\": \"CPython\"\n",
      "         },\n",
      "         \"environment\": {\n",
      "            \"CONDA_DEFAULT_ENV\": null,\n",
      "            \"CONDA_PREFIX\": null,\n",
      "            \"CONDA_PYTHON_EXE\": null,\n",
      "            \"CONDA_EXE\": null,\n",
      "            \"CONDA_PROMPT_MODIFIER\": null,\n",
      "            \"CONDA_SHLVL\": null,\n",
      "            \"PATH\": \"/home/travis/virtualenv/python3.6.7/bin:/home/travis/bin:/home/travis/.local/bin:/usr/local/lib/jvm/openjdk11/bin:/opt/pyenv/shims:/home/travis/.phpenv/shims:/home/travis/perl5/perlbrew/bin:/home/travis/.nvm/versions/node/v8.12.0/bin:/home/travis/.rvm/gems/ruby-2.5.3/bin:/home/travis/.rvm/gems/ruby-2.5.3@global/bin:/home/travis/.rvm/rubies/ruby-2.5.3/bin:/home/travis/gopath/bin:/home/travis/.gimme/versions/go1.11.1.linux.amd64/bin:/usr/local/maven-3.6.0/bin:/usr/local/cmake-3.12.4/bin:/usr/local/clang-7.0.0/bin:/usr/local/sbin:/usr/local/bin:/usr/sbin:/usr/bin:/sbin:/bin:/snap/bin:/home/travis/.rvm/bin:/home/travis/.phpenv/bin:/opt/pyenv/bin:/home/travis/.yarn/bin\",\n",
      "            \"LD_LIBRARY_PATH\": null,\n",
      "            \"DYLD_LIBRARY_PATH\": null,\n",
      "            \"USER\": \"travis\",\n",
      "            \"HOME\": \"/home/travis\",\n",
      "            \"SHELL\": \"/bin/bash\"\n",
      "         },\n",
      "         \"arguments\": [\n",
      "            \"/home/travis/virtualenv/python3.6.7/lib/python3.6/site-packages/ipykernel_launcher.py\",\n",
      "            \"-f\",\n",
      "            \"/tmp/tmpcjusb3sg.json\",\n",
      "            \"--HistoryManager.hist_file=:memory:\"\n",
      "         ],\n",
      "         \"start_time_utc\": \"2020-01-29T16:27:58.603\"\n",
      "      },\n",
      "      \"input\": [],\n",
      "      \"output\": [],\n",
      "      \"config\": {\n",
      "         \"MyTool\": {\n",
      "            \"config_file\": \"\",\n",
      "            \"iterations\": 5,\n",
      "            \"log_datefmt\": \"%Y-%m-%d %H:%M:%S\",\n",
      "            \"log_format\": \"%(levelname)s [%(name)s] (%(module)s/%(funcName)s): %(message)s\",\n",
      "            \"log_level\": 20\n",
      "         },\n",
      "         \"MyComponent\": {\n",
      "            \"value\": -1\n",
      "         },\n",
      "         \"SecondaryMyComponent\": {\n",
      "            \"value\": -1\n",
      "         },\n",
      "         \"AdvancedComponent\": {\n",
      "            \"infile\": \"\",\n",
      "            \"outfile\": \"\",\n",
      "            \"value1\": -1\n",
      "         }\n",
      "      },\n",
      "      \"status\": \"completed\",\n",
      "      \"duration_min\": 0.01289999999988467\n",
      "   },\n",
      "   {\n",
      "      \"activity_name\": \"mytool\",\n",
      "      \"activity_uuid\": \"02a6cc01-a906-40ad-9de7-e00434f51a77\",\n",
      "      \"start\": {\n",
      "         \"time_utc\": \"2020-01-29T16:27:59.137\"\n",
      "      },\n",
      "      \"stop\": {\n",
      "         \"time_utc\": \"2020-01-29T16:27:59.455\"\n",
      "      },\n",
      "      \"system\": {\n",
      "         \"ctapipe_version\": \"0.7.0.post132+git12d768d\",\n",
      "         \"ctapipe_resources_version\": \"0.2.18\",\n",
      "         \"pyhessio_version\": \"2.1.1\",\n",
      "         \"eventio_version\": \"1.0.0\",\n",
      "         \"ctapipe_svc_path\": null,\n",
      "         \"executable\": \"/home/travis/virtualenv/python3.6.7/bin/python\",\n",
      "         \"platform\": {\n",
      "            \"architecture_bits\": \"64bit\",\n",
      "            \"architecture_linkage\": \"ELF\",\n",
      "            \"machine\": \"x86_64\",\n",
      "            \"processor\": \"x86_64\",\n",
      "            \"node\": \"travis-job-d399fa77-c587-4472-acce-4628cc3d4a24\",\n",
      "            \"version\": \"#29~16.04.1-Ubuntu SMP Tue Feb 12 16:31:10 UTC 2019\",\n",
      "            \"system\": \"Linux\",\n",
      "            \"release\": \"4.15.0-1028-gcp\",\n",
      "            \"libcver\": [\n",
      "               \"glibc\",\n",
      "               \"2.3.4\"\n",
      "            ],\n",
      "            \"num_cpus\": 2,\n",
      "            \"boot_time\": \"2020-01-29T16:20:37.000\"\n",
      "         },\n",
      "         \"python\": {\n",
      "            \"version_string\": \"3.6.7 (default, Nov 28 2018, 13:38:24) \\n[GCC 5.4.0 20160609]\",\n",
      "            \"version\": [\n",
      "               \"3\",\n",
      "               \"6\",\n",
      "               \"7\"\n",
      "            ],\n",
      "            \"compiler\": \"GCC 5.4.0 20160609\",\n",
      "            \"implementation\": \"CPython\"\n",
      "         },\n",
      "         \"environment\": {\n",
      "            \"CONDA_DEFAULT_ENV\": null,\n",
      "            \"CONDA_PREFIX\": null,\n",
      "            \"CONDA_PYTHON_EXE\": null,\n",
      "            \"CONDA_EXE\": null,\n",
      "            \"CONDA_PROMPT_MODIFIER\": null,\n",
      "            \"CONDA_SHLVL\": null,\n",
      "            \"PATH\": \"/home/travis/virtualenv/python3.6.7/bin:/home/travis/bin:/home/travis/.local/bin:/usr/local/lib/jvm/openjdk11/bin:/opt/pyenv/shims:/home/travis/.phpenv/shims:/home/travis/perl5/perlbrew/bin:/home/travis/.nvm/versions/node/v8.12.0/bin:/home/travis/.rvm/gems/ruby-2.5.3/bin:/home/travis/.rvm/gems/ruby-2.5.3@global/bin:/home/travis/.rvm/rubies/ruby-2.5.3/bin:/home/travis/gopath/bin:/home/travis/.gimme/versions/go1.11.1.linux.amd64/bin:/usr/local/maven-3.6.0/bin:/usr/local/cmake-3.12.4/bin:/usr/local/clang-7.0.0/bin:/usr/local/sbin:/usr/local/bin:/usr/sbin:/usr/bin:/sbin:/bin:/snap/bin:/home/travis/.rvm/bin:/home/travis/.phpenv/bin:/opt/pyenv/bin:/home/travis/.yarn/bin\",\n",
      "            \"LD_LIBRARY_PATH\": null,\n",
      "            \"DYLD_LIBRARY_PATH\": null,\n",
      "            \"USER\": \"travis\",\n",
      "            \"HOME\": \"/home/travis\",\n",
      "            \"SHELL\": \"/bin/bash\"\n",
      "         },\n",
      "         \"arguments\": [\n",
      "            \"/home/travis/virtualenv/python3.6.7/lib/python3.6/site-packages/ipykernel_launcher.py\",\n",
      "            \"-f\",\n",
      "            \"/tmp/tmpcjusb3sg.json\",\n",
      "            \"--HistoryManager.hist_file=:memory:\"\n",
      "         ],\n",
      "         \"start_time_utc\": \"2020-01-29T16:27:59.145\"\n",
      "      },\n",
      "      \"input\": [],\n",
      "      \"output\": [],\n",
      "      \"config\": {\n",
      "         \"MyTool\": {\n",
      "            \"config_file\": \"\",\n",
      "            \"iterations\": 3,\n",
      "            \"log_datefmt\": \"%Y-%m-%d %H:%M:%S\",\n",
      "            \"log_format\": \"%(asctime)s : %(levelname)s [%(name)s %(funcName)s] %(message)s\",\n",
      "            \"log_level\": 20\n",
      "         },\n",
      "         \"MyComponent\": {\n",
      "            \"value\": -1\n",
      "         },\n",
      "         \"SecondaryMyComponent\": {\n",
      "            \"value\": -1\n",
      "         },\n",
      "         \"AdvancedComponent\": {\n",
      "            \"infile\": \"bork.txt\",\n",
      "            \"outfile\": \"\",\n",
      "            \"value1\": -1\n",
      "         }\n",
      "      },\n",
      "      \"status\": \"completed\",\n",
      "      \"duration_min\": 0.005299999999994753\n",
      "   },\n",
      "   {\n",
      "      \"activity_name\": \"mytool\",\n",
      "      \"activity_uuid\": \"180e9a72-d45e-4ed8-86b1-357193b0c8b2\",\n",
      "      \"start\": {\n",
      "         \"time_utc\": \"2020-01-29T16:27:59.476\"\n",
      "      },\n",
      "      \"stop\": {\n",
      "         \"time_utc\": \"2020-01-29T16:27:59.798\"\n",
      "      },\n",
      "      \"system\": {\n",
      "         \"ctapipe_version\": \"0.7.0.post132+git12d768d\",\n",
      "         \"ctapipe_resources_version\": \"0.2.18\",\n",
      "         \"pyhessio_version\": \"2.1.1\",\n",
      "         \"eventio_version\": \"1.0.0\",\n",
      "         \"ctapipe_svc_path\": null,\n",
      "         \"executable\": \"/home/travis/virtualenv/python3.6.7/bin/python\",\n",
      "         \"platform\": {\n",
      "            \"architecture_bits\": \"64bit\",\n",
      "            \"architecture_linkage\": \"ELF\",\n",
      "            \"machine\": \"x86_64\",\n",
      "            \"processor\": \"x86_64\",\n",
      "            \"node\": \"travis-job-d399fa77-c587-4472-acce-4628cc3d4a24\",\n",
      "            \"version\": \"#29~16.04.1-Ubuntu SMP Tue Feb 12 16:31:10 UTC 2019\",\n",
      "            \"system\": \"Linux\",\n",
      "            \"release\": \"4.15.0-1028-gcp\",\n",
      "            \"libcver\": [\n",
      "               \"glibc\",\n",
      "               \"2.3.4\"\n",
      "            ],\n",
      "            \"num_cpus\": 2,\n",
      "            \"boot_time\": \"2020-01-29T16:20:37.000\"\n",
      "         },\n",
      "         \"python\": {\n",
      "            \"version_string\": \"3.6.7 (default, Nov 28 2018, 13:38:24) \\n[GCC 5.4.0 20160609]\",\n",
      "            \"version\": [\n",
      "               \"3\",\n",
      "               \"6\",\n",
      "               \"7\"\n",
      "            ],\n",
      "            \"compiler\": \"GCC 5.4.0 20160609\",\n",
      "            \"implementation\": \"CPython\"\n",
      "         },\n",
      "         \"environment\": {\n",
      "            \"CONDA_DEFAULT_ENV\": null,\n",
      "            \"CONDA_PREFIX\": null,\n",
      "            \"CONDA_PYTHON_EXE\": null,\n",
      "            \"CONDA_EXE\": null,\n",
      "            \"CONDA_PROMPT_MODIFIER\": null,\n",
      "            \"CONDA_SHLVL\": null,\n",
      "            \"PATH\": \"/home/travis/virtualenv/python3.6.7/bin:/home/travis/bin:/home/travis/.local/bin:/usr/local/lib/jvm/openjdk11/bin:/opt/pyenv/shims:/home/travis/.phpenv/shims:/home/travis/perl5/perlbrew/bin:/home/travis/.nvm/versions/node/v8.12.0/bin:/home/travis/.rvm/gems/ruby-2.5.3/bin:/home/travis/.rvm/gems/ruby-2.5.3@global/bin:/home/travis/.rvm/rubies/ruby-2.5.3/bin:/home/travis/gopath/bin:/home/travis/.gimme/versions/go1.11.1.linux.amd64/bin:/usr/local/maven-3.6.0/bin:/usr/local/cmake-3.12.4/bin:/usr/local/clang-7.0.0/bin:/usr/local/sbin:/usr/local/bin:/usr/sbin:/usr/bin:/sbin:/bin:/snap/bin:/home/travis/.rvm/bin:/home/travis/.phpenv/bin:/opt/pyenv/bin:/home/travis/.yarn/bin\",\n",
      "            \"LD_LIBRARY_PATH\": null,\n",
      "            \"DYLD_LIBRARY_PATH\": null,\n",
      "            \"USER\": \"travis\",\n",
      "            \"HOME\": \"/home/travis\",\n",
      "            \"SHELL\": \"/bin/bash\"\n",
      "         },\n",
      "         \"arguments\": [\n",
      "            \"/home/travis/virtualenv/python3.6.7/lib/python3.6/site-packages/ipykernel_launcher.py\",\n",
      "            \"-f\",\n",
      "            \"/tmp/tmpcjusb3sg.json\",\n",
      "            \"--HistoryManager.hist_file=:memory:\"\n",
      "         ],\n",
      "         \"start_time_utc\": \"2020-01-29T16:27:59.484\"\n",
      "      },\n",
      "      \"input\": [],\n",
      "      \"output\": [],\n",
      "      \"config\": {\n",
      "         \"MyTool\": {\n",
      "            \"config_file\": \"\",\n",
      "            \"iterations\": 3,\n",
      "            \"log_datefmt\": \"%Y-%m-%d %H:%M:%S\",\n",
      "            \"log_format\": \"%(asctime)s : %(levelname)s [%(name)s %(funcName)s] %(message)s\",\n",
      "            \"log_level\": 10\n",
      "         },\n",
      "         \"MyComponent\": {\n",
      "            \"value\": -1\n",
      "         },\n",
      "         \"SecondaryMyComponent\": {\n",
      "            \"value\": -1\n",
      "         },\n",
      "         \"AdvancedComponent\": {\n",
      "            \"infile\": \"bork.txt\",\n",
      "            \"outfile\": \"\",\n",
      "            \"value1\": -1\n",
      "         }\n",
      "      },\n",
      "      \"status\": \"completed\",\n",
      "      \"duration_min\": 0.005366666666741793\n",
      "   }\n",
      "]'\n"
     ]
    }
   ],
   "source": [
    "tool.run(argv=['--log-level','DEBUG','--infile','bork.txt'])"
   ]
  },
  {
   "cell_type": "markdown",
   "metadata": {},
   "source": [
    "you can also set parameters directly in the class, rather than using the argument/configfile parser. This is useful if you are calling the Tool from a script rather than the command-line"
   ]
  },
  {
   "cell_type": "code",
   "execution_count": 12,
   "metadata": {},
   "outputs": [
    {
     "name": "stderr",
     "output_type": "stream",
     "text": [
      "2020-01-29 16:27:59 : \u001b[1;33mWARNING\u001b[0m [MyTool finish] Shutting down.\n"
     ]
    }
   ],
   "source": [
    "tool.iterations = 1\n",
    "tool.log_level = 0\n",
    "tool.run('')"
   ]
  },
  {
   "cell_type": "markdown",
   "metadata": {},
   "source": [
    "see what happens when a value is set that is not of the correct type:"
   ]
  },
  {
   "cell_type": "code",
   "execution_count": 13,
   "metadata": {},
   "outputs": [
    {
     "name": "stdout",
     "output_type": "stream",
     "text": [
      "bad value: The 'iterations' trait of a MyTool instance must be an int, but a value of 'badval' <class 'str'> was specified.\n"
     ]
    }
   ],
   "source": [
    "try:\n",
    "    tool.iterations = \"badval\"\n",
    "except TraitError as E:\n",
    "    print(\"bad value:\",E)"
   ]
  },
  {
   "cell_type": "markdown",
   "metadata": {},
   "source": [
    "Example of what happens when you change a parameter that is being \"observed\" in a class. It's handler is called:"
   ]
  },
  {
   "cell_type": "code",
   "execution_count": 14,
   "metadata": {},
   "outputs": [
    {
     "name": "stderr",
     "output_type": "stream",
     "text": [
      "2020-01-29 16:27:59 : \u001b[1;33mWARNING\u001b[0m [MyTool.AdvancedComponent on_outfile_changed] Outfile was changed to '{'name': 'outfile', 'old': '', 'new': 'Another.txt', 'owner': <__main__.AdvancedComponent object at 0x7f24a68e4400>, 'type': 'change'}'\n"
     ]
    }
   ],
   "source": [
    "tool.advanced.outfile = \"Another.txt\""
   ]
  },
  {
   "cell_type": "markdown",
   "metadata": {},
   "source": [
    "we see that the handler for `outfile` was called, and it receive a change dict that shows the old and new values."
   ]
  },
  {
   "cell_type": "markdown",
   "metadata": {},
   "source": [
    "create a tool using a config file:"
   ]
  },
  {
   "cell_type": "code",
   "execution_count": 15,
   "metadata": {},
   "outputs": [
    {
     "name": "stdout",
     "output_type": "stream",
     "text": [
      "{\r\n",
      "    \"version\": 1.0,\r\n",
      "    \"MyTool\": {\"log_level\":\"DEBUG\"},\r\n",
      "    \"AdvancedComponent\": {\"infile\": \"something.txt\"}\r\n",
      "}\r\n"
     ]
    }
   ],
   "source": [
    "!cat Tools.json"
   ]
  },
  {
   "cell_type": "code",
   "execution_count": 16,
   "metadata": {},
   "outputs": [],
   "source": [
    "tool2 = MyTool()"
   ]
  },
  {
   "cell_type": "code",
   "execution_count": 17,
   "metadata": {},
   "outputs": [
    {
     "name": "stderr",
     "output_type": "stream",
     "text": [
      "2020-01-29 16:28:00 : \u001b[1;32mINFO\u001b[0m [MyTool initialize] ctapipe version 0.7.0.post132+git12d768d\n"
     ]
    },
    {
     "name": "stderr",
     "output_type": "stream",
     "text": [
      "2020-01-29 16:28:00 : \u001b[1;32mINFO\u001b[0m [MyTool run] Starting: mytool\n"
     ]
    },
    {
     "name": "stderr",
     "output_type": "stream",
     "text": [
      "2020-01-29 16:28:00 : \u001b[1;32mINFO\u001b[0m [MyTool run] CONFIG: {'MyTool': {'config_file': 'Tools.json', 'iterations': 5, 'log_datefmt': '%Y-%m-%d %H:%M:%S', 'log_format': '%(levelname)s [%(name)s] (%(module)s/%(funcName)s): %(message)s', 'log_level': 10}, 'MyComponent': {'value': -1}, 'SecondaryMyComponent': {'value': -1}, 'AdvancedComponent': {'infile': 'something.txt', 'outfile': '', 'value1': -1}}\n"
     ]
    },
    {
     "name": "stderr",
     "output_type": "stream",
     "text": [
      "2020-01-29 16:28:00 : \u001b[1;32mINFO\u001b[0m [MyTool start] Performing 5 iterations...\n"
     ]
    },
    {
     "name": "stderr",
     "output_type": "stream",
     "text": [
      "2020-01-29 16:28:00 : \u001b[1;32mINFO\u001b[0m [MyTool start] ITERATION 0\n"
     ]
    },
    {
     "name": "stderr",
     "output_type": "stream",
     "text": [
      "2020-01-29 16:28:00 : \u001b[1;34mDEBUG\u001b[0m [MyTool.MyComponent do_thing] Did thing\n"
     ]
    },
    {
     "name": "stderr",
     "output_type": "stream",
     "text": [
      "2020-01-29 16:28:00 : \u001b[1;34mDEBUG\u001b[0m [MyTool.SecondaryMyComponent do_thing] Did thing\n"
     ]
    },
    {
     "name": "stderr",
     "output_type": "stream",
     "text": [
      "2020-01-29 16:28:00 : \u001b[1;32mINFO\u001b[0m [MyTool start] ITERATION 1\n"
     ]
    },
    {
     "name": "stderr",
     "output_type": "stream",
     "text": [
      "2020-01-29 16:28:00 : \u001b[1;34mDEBUG\u001b[0m [MyTool.MyComponent do_thing] Did thing\n"
     ]
    },
    {
     "name": "stderr",
     "output_type": "stream",
     "text": [
      "2020-01-29 16:28:00 : \u001b[1;34mDEBUG\u001b[0m [MyTool.SecondaryMyComponent do_thing] Did thing\n"
     ]
    },
    {
     "name": "stderr",
     "output_type": "stream",
     "text": [
      "2020-01-29 16:28:00 : \u001b[1;32mINFO\u001b[0m [MyTool start] ITERATION 2\n"
     ]
    },
    {
     "name": "stderr",
     "output_type": "stream",
     "text": [
      "2020-01-29 16:28:00 : \u001b[1;34mDEBUG\u001b[0m [MyTool.MyComponent do_thing] Did thing\n"
     ]
    },
    {
     "name": "stderr",
     "output_type": "stream",
     "text": [
      "2020-01-29 16:28:00 : \u001b[1;34mDEBUG\u001b[0m [MyTool.SecondaryMyComponent do_thing] Did thing\n"
     ]
    },
    {
     "name": "stderr",
     "output_type": "stream",
     "text": [
      "2020-01-29 16:28:00 : \u001b[1;32mINFO\u001b[0m [MyTool start] ITERATION 3\n"
     ]
    },
    {
     "name": "stderr",
     "output_type": "stream",
     "text": [
      "2020-01-29 16:28:00 : \u001b[1;34mDEBUG\u001b[0m [MyTool.MyComponent do_thing] Did thing\n"
     ]
    },
    {
     "name": "stderr",
     "output_type": "stream",
     "text": [
      "2020-01-29 16:28:00 : \u001b[1;34mDEBUG\u001b[0m [MyTool.SecondaryMyComponent do_thing] Did thing\n"
     ]
    },
    {
     "name": "stderr",
     "output_type": "stream",
     "text": [
      "2020-01-29 16:28:00 : \u001b[1;32mINFO\u001b[0m [MyTool start] ITERATION 4\n"
     ]
    },
    {
     "name": "stderr",
     "output_type": "stream",
     "text": [
      "2020-01-29 16:28:00 : \u001b[1;34mDEBUG\u001b[0m [MyTool.MyComponent do_thing] Did thing\n"
     ]
    },
    {
     "name": "stderr",
     "output_type": "stream",
     "text": [
      "2020-01-29 16:28:00 : \u001b[1;34mDEBUG\u001b[0m [MyTool.SecondaryMyComponent do_thing] Did thing\n"
     ]
    },
    {
     "name": "stderr",
     "output_type": "stream",
     "text": [
      "2020-01-29 16:28:00 : \u001b[1;33mWARNING\u001b[0m [MyTool finish] Shutting down.\n"
     ]
    },
    {
     "name": "stderr",
     "output_type": "stream",
     "text": [
      "2020-01-29 16:28:00 : \u001b[1;32mINFO\u001b[0m [MyTool run] Finished: mytool\n"
     ]
    },
    {
     "name": "stderr",
     "output_type": "stream",
     "text": [
      "2020-01-29 16:28:00 : \u001b[1;32mINFO\u001b[0m [MyTool run] Output: \n"
     ]
    },
    {
     "name": "stderr",
     "output_type": "stream",
     "text": [
      "2020-01-29 16:28:00 : \u001b[1;32mINFO\u001b[0m [MyTool run] Output: \n"
     ]
    },
    {
     "name": "stderr",
     "output_type": "stream",
     "text": [
      "2020-01-29 16:28:00 : \u001b[1;32mINFO\u001b[0m [MyTool run] Output: \n"
     ]
    },
    {
     "name": "stderr",
     "output_type": "stream",
     "text": [
      "2020-01-29 16:28:00 : \u001b[1;32mINFO\u001b[0m [MyTool run] Output: \n"
     ]
    },
    {
     "name": "stderr",
     "output_type": "stream",
     "text": [
      "2020-01-29 16:28:00 : \u001b[1;32mINFO\u001b[0m [MyTool run] Output: \n"
     ]
    },
    {
     "name": "stderr",
     "output_type": "stream",
     "text": [
      "2020-01-29 16:28:00 : \u001b[1;34mDEBUG\u001b[0m [MyTool run] PROVENANCE: '[\n",
      "   {\n",
      "      \"activity_name\": \"mytool\",\n",
      "      \"activity_uuid\": \"53fe4815-9dba-47ba-acfe-64e662567602\",\n",
      "      \"start\": {\n",
      "         \"time_utc\": \"2020-01-29T16:27:58.341\"\n",
      "      },\n",
      "      \"stop\": {\n",
      "         \"time_utc\": \"2020-01-29T16:27:59.115\"\n",
      "      },\n",
      "      \"system\": {\n",
      "         \"ctapipe_version\": \"0.7.0.post132+git12d768d\",\n",
      "         \"ctapipe_resources_version\": \"0.2.18\",\n",
      "         \"pyhessio_version\": \"2.1.1\",\n",
      "         \"eventio_version\": \"1.0.0\",\n",
      "         \"ctapipe_svc_path\": null,\n",
      "         \"executable\": \"/home/travis/virtualenv/python3.6.7/bin/python\",\n",
      "         \"platform\": {\n",
      "            \"architecture_bits\": \"64bit\",\n",
      "            \"architecture_linkage\": \"ELF\",\n",
      "            \"machine\": \"x86_64\",\n",
      "            \"processor\": \"x86_64\",\n",
      "            \"node\": \"travis-job-d399fa77-c587-4472-acce-4628cc3d4a24\",\n",
      "            \"version\": \"#29~16.04.1-Ubuntu SMP Tue Feb 12 16:31:10 UTC 2019\",\n",
      "            \"system\": \"Linux\",\n",
      "            \"release\": \"4.15.0-1028-gcp\",\n",
      "            \"libcver\": [\n",
      "               \"glibc\",\n",
      "               \"2.3.4\"\n",
      "            ],\n",
      "            \"num_cpus\": 2,\n",
      "            \"boot_time\": \"2020-01-29T16:20:37.000\"\n",
      "         },\n",
      "         \"python\": {\n",
      "            \"version_string\": \"3.6.7 (default, Nov 28 2018, 13:38:24) \\n[GCC 5.4.0 20160609]\",\n",
      "            \"version\": [\n",
      "               \"3\",\n",
      "               \"6\",\n",
      "               \"7\"\n",
      "            ],\n",
      "            \"compiler\": \"GCC 5.4.0 20160609\",\n",
      "            \"implementation\": \"CPython\"\n",
      "         },\n",
      "         \"environment\": {\n",
      "            \"CONDA_DEFAULT_ENV\": null,\n",
      "            \"CONDA_PREFIX\": null,\n",
      "            \"CONDA_PYTHON_EXE\": null,\n",
      "            \"CONDA_EXE\": null,\n",
      "            \"CONDA_PROMPT_MODIFIER\": null,\n",
      "            \"CONDA_SHLVL\": null,\n",
      "            \"PATH\": \"/home/travis/virtualenv/python3.6.7/bin:/home/travis/bin:/home/travis/.local/bin:/usr/local/lib/jvm/openjdk11/bin:/opt/pyenv/shims:/home/travis/.phpenv/shims:/home/travis/perl5/perlbrew/bin:/home/travis/.nvm/versions/node/v8.12.0/bin:/home/travis/.rvm/gems/ruby-2.5.3/bin:/home/travis/.rvm/gems/ruby-2.5.3@global/bin:/home/travis/.rvm/rubies/ruby-2.5.3/bin:/home/travis/gopath/bin:/home/travis/.gimme/versions/go1.11.1.linux.amd64/bin:/usr/local/maven-3.6.0/bin:/usr/local/cmake-3.12.4/bin:/usr/local/clang-7.0.0/bin:/usr/local/sbin:/usr/local/bin:/usr/sbin:/usr/bin:/sbin:/bin:/snap/bin:/home/travis/.rvm/bin:/home/travis/.phpenv/bin:/opt/pyenv/bin:/home/travis/.yarn/bin\",\n",
      "            \"LD_LIBRARY_PATH\": null,\n",
      "            \"DYLD_LIBRARY_PATH\": null,\n",
      "            \"USER\": \"travis\",\n",
      "            \"HOME\": \"/home/travis\",\n",
      "            \"SHELL\": \"/bin/bash\"\n",
      "         },\n",
      "         \"arguments\": [\n",
      "            \"/home/travis/virtualenv/python3.6.7/lib/python3.6/site-packages/ipykernel_launcher.py\",\n",
      "            \"-f\",\n",
      "            \"/tmp/tmpcjusb3sg.json\",\n",
      "            \"--HistoryManager.hist_file=:memory:\"\n",
      "         ],\n",
      "         \"start_time_utc\": \"2020-01-29T16:27:58.603\"\n",
      "      },\n",
      "      \"input\": [],\n",
      "      \"output\": [],\n",
      "      \"config\": {\n",
      "         \"MyTool\": {\n",
      "            \"config_file\": \"\",\n",
      "            \"iterations\": 5,\n",
      "            \"log_datefmt\": \"%Y-%m-%d %H:%M:%S\",\n",
      "            \"log_format\": \"%(levelname)s [%(name)s] (%(module)s/%(funcName)s): %(message)s\",\n",
      "            \"log_level\": 20\n",
      "         },\n",
      "         \"MyComponent\": {\n",
      "            \"value\": -1\n",
      "         },\n",
      "         \"SecondaryMyComponent\": {\n",
      "            \"value\": -1\n",
      "         },\n",
      "         \"AdvancedComponent\": {\n",
      "            \"infile\": \"\",\n",
      "            \"outfile\": \"\",\n",
      "            \"value1\": -1\n",
      "         }\n",
      "      },\n",
      "      \"status\": \"completed\",\n",
      "      \"duration_min\": 0.01289999999988467\n",
      "   },\n",
      "   {\n",
      "      \"activity_name\": \"mytool\",\n",
      "      \"activity_uuid\": \"02a6cc01-a906-40ad-9de7-e00434f51a77\",\n",
      "      \"start\": {\n",
      "         \"time_utc\": \"2020-01-29T16:27:59.137\"\n",
      "      },\n",
      "      \"stop\": {\n",
      "         \"time_utc\": \"2020-01-29T16:27:59.455\"\n",
      "      },\n",
      "      \"system\": {\n",
      "         \"ctapipe_version\": \"0.7.0.post132+git12d768d\",\n",
      "         \"ctapipe_resources_version\": \"0.2.18\",\n",
      "         \"pyhessio_version\": \"2.1.1\",\n",
      "         \"eventio_version\": \"1.0.0\",\n",
      "         \"ctapipe_svc_path\": null,\n",
      "         \"executable\": \"/home/travis/virtualenv/python3.6.7/bin/python\",\n",
      "         \"platform\": {\n",
      "            \"architecture_bits\": \"64bit\",\n",
      "            \"architecture_linkage\": \"ELF\",\n",
      "            \"machine\": \"x86_64\",\n",
      "            \"processor\": \"x86_64\",\n",
      "            \"node\": \"travis-job-d399fa77-c587-4472-acce-4628cc3d4a24\",\n",
      "            \"version\": \"#29~16.04.1-Ubuntu SMP Tue Feb 12 16:31:10 UTC 2019\",\n",
      "            \"system\": \"Linux\",\n",
      "            \"release\": \"4.15.0-1028-gcp\",\n",
      "            \"libcver\": [\n",
      "               \"glibc\",\n",
      "               \"2.3.4\"\n",
      "            ],\n",
      "            \"num_cpus\": 2,\n",
      "            \"boot_time\": \"2020-01-29T16:20:37.000\"\n",
      "         },\n",
      "         \"python\": {\n",
      "            \"version_string\": \"3.6.7 (default, Nov 28 2018, 13:38:24) \\n[GCC 5.4.0 20160609]\",\n",
      "            \"version\": [\n",
      "               \"3\",\n",
      "               \"6\",\n",
      "               \"7\"\n",
      "            ],\n",
      "            \"compiler\": \"GCC 5.4.0 20160609\",\n",
      "            \"implementation\": \"CPython\"\n",
      "         },\n",
      "         \"environment\": {\n",
      "            \"CONDA_DEFAULT_ENV\": null,\n",
      "            \"CONDA_PREFIX\": null,\n",
      "            \"CONDA_PYTHON_EXE\": null,\n",
      "            \"CONDA_EXE\": null,\n",
      "            \"CONDA_PROMPT_MODIFIER\": null,\n",
      "            \"CONDA_SHLVL\": null,\n",
      "            \"PATH\": \"/home/travis/virtualenv/python3.6.7/bin:/home/travis/bin:/home/travis/.local/bin:/usr/local/lib/jvm/openjdk11/bin:/opt/pyenv/shims:/home/travis/.phpenv/shims:/home/travis/perl5/perlbrew/bin:/home/travis/.nvm/versions/node/v8.12.0/bin:/home/travis/.rvm/gems/ruby-2.5.3/bin:/home/travis/.rvm/gems/ruby-2.5.3@global/bin:/home/travis/.rvm/rubies/ruby-2.5.3/bin:/home/travis/gopath/bin:/home/travis/.gimme/versions/go1.11.1.linux.amd64/bin:/usr/local/maven-3.6.0/bin:/usr/local/cmake-3.12.4/bin:/usr/local/clang-7.0.0/bin:/usr/local/sbin:/usr/local/bin:/usr/sbin:/usr/bin:/sbin:/bin:/snap/bin:/home/travis/.rvm/bin:/home/travis/.phpenv/bin:/opt/pyenv/bin:/home/travis/.yarn/bin\",\n",
      "            \"LD_LIBRARY_PATH\": null,\n",
      "            \"DYLD_LIBRARY_PATH\": null,\n",
      "            \"USER\": \"travis\",\n",
      "            \"HOME\": \"/home/travis\",\n",
      "            \"SHELL\": \"/bin/bash\"\n",
      "         },\n",
      "         \"arguments\": [\n",
      "            \"/home/travis/virtualenv/python3.6.7/lib/python3.6/site-packages/ipykernel_launcher.py\",\n",
      "            \"-f\",\n",
      "            \"/tmp/tmpcjusb3sg.json\",\n",
      "            \"--HistoryManager.hist_file=:memory:\"\n",
      "         ],\n",
      "         \"start_time_utc\": \"2020-01-29T16:27:59.145\"\n",
      "      },\n",
      "      \"input\": [],\n",
      "      \"output\": [],\n",
      "      \"config\": {\n",
      "         \"MyTool\": {\n",
      "            \"config_file\": \"\",\n",
      "            \"iterations\": 3,\n",
      "            \"log_datefmt\": \"%Y-%m-%d %H:%M:%S\",\n",
      "            \"log_format\": \"%(asctime)s : %(levelname)s [%(name)s %(funcName)s] %(message)s\",\n",
      "            \"log_level\": 20\n",
      "         },\n",
      "         \"MyComponent\": {\n",
      "            \"value\": -1\n",
      "         },\n",
      "         \"SecondaryMyComponent\": {\n",
      "            \"value\": -1\n",
      "         },\n",
      "         \"AdvancedComponent\": {\n",
      "            \"infile\": \"bork.txt\",\n",
      "            \"outfile\": \"\",\n",
      "            \"value1\": -1\n",
      "         }\n",
      "      },\n",
      "      \"status\": \"completed\",\n",
      "      \"duration_min\": 0.005299999999994753\n",
      "   },\n",
      "   {\n",
      "      \"activity_name\": \"mytool\",\n",
      "      \"activity_uuid\": \"180e9a72-d45e-4ed8-86b1-357193b0c8b2\",\n",
      "      \"start\": {\n",
      "         \"time_utc\": \"2020-01-29T16:27:59.476\"\n",
      "      },\n",
      "      \"stop\": {\n",
      "         \"time_utc\": \"2020-01-29T16:27:59.798\"\n",
      "      },\n",
      "      \"system\": {\n",
      "         \"ctapipe_version\": \"0.7.0.post132+git12d768d\",\n",
      "         \"ctapipe_resources_version\": \"0.2.18\",\n",
      "         \"pyhessio_version\": \"2.1.1\",\n",
      "         \"eventio_version\": \"1.0.0\",\n",
      "         \"ctapipe_svc_path\": null,\n",
      "         \"executable\": \"/home/travis/virtualenv/python3.6.7/bin/python\",\n",
      "         \"platform\": {\n",
      "            \"architecture_bits\": \"64bit\",\n",
      "            \"architecture_linkage\": \"ELF\",\n",
      "            \"machine\": \"x86_64\",\n",
      "            \"processor\": \"x86_64\",\n",
      "            \"node\": \"travis-job-d399fa77-c587-4472-acce-4628cc3d4a24\",\n",
      "            \"version\": \"#29~16.04.1-Ubuntu SMP Tue Feb 12 16:31:10 UTC 2019\",\n",
      "            \"system\": \"Linux\",\n",
      "            \"release\": \"4.15.0-1028-gcp\",\n",
      "            \"libcver\": [\n",
      "               \"glibc\",\n",
      "               \"2.3.4\"\n",
      "            ],\n",
      "            \"num_cpus\": 2,\n",
      "            \"boot_time\": \"2020-01-29T16:20:37.000\"\n",
      "         },\n",
      "         \"python\": {\n",
      "            \"version_string\": \"3.6.7 (default, Nov 28 2018, 13:38:24) \\n[GCC 5.4.0 20160609]\",\n",
      "            \"version\": [\n",
      "               \"3\",\n",
      "               \"6\",\n",
      "               \"7\"\n",
      "            ],\n",
      "            \"compiler\": \"GCC 5.4.0 20160609\",\n",
      "            \"implementation\": \"CPython\"\n",
      "         },\n",
      "         \"environment\": {\n",
      "            \"CONDA_DEFAULT_ENV\": null,\n",
      "            \"CONDA_PREFIX\": null,\n",
      "            \"CONDA_PYTHON_EXE\": null,\n",
      "            \"CONDA_EXE\": null,\n",
      "            \"CONDA_PROMPT_MODIFIER\": null,\n",
      "            \"CONDA_SHLVL\": null,\n",
      "            \"PATH\": \"/home/travis/virtualenv/python3.6.7/bin:/home/travis/bin:/home/travis/.local/bin:/usr/local/lib/jvm/openjdk11/bin:/opt/pyenv/shims:/home/travis/.phpenv/shims:/home/travis/perl5/perlbrew/bin:/home/travis/.nvm/versions/node/v8.12.0/bin:/home/travis/.rvm/gems/ruby-2.5.3/bin:/home/travis/.rvm/gems/ruby-2.5.3@global/bin:/home/travis/.rvm/rubies/ruby-2.5.3/bin:/home/travis/gopath/bin:/home/travis/.gimme/versions/go1.11.1.linux.amd64/bin:/usr/local/maven-3.6.0/bin:/usr/local/cmake-3.12.4/bin:/usr/local/clang-7.0.0/bin:/usr/local/sbin:/usr/local/bin:/usr/sbin:/usr/bin:/sbin:/bin:/snap/bin:/home/travis/.rvm/bin:/home/travis/.phpenv/bin:/opt/pyenv/bin:/home/travis/.yarn/bin\",\n",
      "            \"LD_LIBRARY_PATH\": null,\n",
      "            \"DYLD_LIBRARY_PATH\": null,\n",
      "            \"USER\": \"travis\",\n",
      "            \"HOME\": \"/home/travis\",\n",
      "            \"SHELL\": \"/bin/bash\"\n",
      "         },\n",
      "         \"arguments\": [\n",
      "            \"/home/travis/virtualenv/python3.6.7/lib/python3.6/site-packages/ipykernel_launcher.py\",\n",
      "            \"-f\",\n",
      "            \"/tmp/tmpcjusb3sg.json\",\n",
      "            \"--HistoryManager.hist_file=:memory:\"\n",
      "         ],\n",
      "         \"start_time_utc\": \"2020-01-29T16:27:59.484\"\n",
      "      },\n",
      "      \"input\": [],\n",
      "      \"output\": [],\n",
      "      \"config\": {\n",
      "         \"MyTool\": {\n",
      "            \"config_file\": \"\",\n",
      "            \"iterations\": 3,\n",
      "            \"log_datefmt\": \"%Y-%m-%d %H:%M:%S\",\n",
      "            \"log_format\": \"%(asctime)s : %(levelname)s [%(name)s %(funcName)s] %(message)s\",\n",
      "            \"log_level\": 10\n",
      "         },\n",
      "         \"MyComponent\": {\n",
      "            \"value\": -1\n",
      "         },\n",
      "         \"SecondaryMyComponent\": {\n",
      "            \"value\": -1\n",
      "         },\n",
      "         \"AdvancedComponent\": {\n",
      "            \"infile\": \"bork.txt\",\n",
      "            \"outfile\": \"\",\n",
      "            \"value1\": -1\n",
      "         }\n",
      "      },\n",
      "      \"status\": \"completed\",\n",
      "      \"duration_min\": 0.005366666666741793\n",
      "   },\n",
      "   {\n",
      "      \"activity_name\": \"mytool\",\n",
      "      \"activity_uuid\": \"49b387cc-d515-45b5-9802-6ed0a4bb4550\",\n",
      "      \"start\": {\n",
      "         \"time_utc\": \"2020-01-29T16:27:59.823\"\n",
      "      },\n",
      "      \"stop\": {\n",
      "         \"time_utc\": \"2020-01-29T16:27:59.936\"\n",
      "      },\n",
      "      \"system\": {\n",
      "         \"ctapipe_version\": \"0.7.0.post132+git12d768d\",\n",
      "         \"ctapipe_resources_version\": \"0.2.18\",\n",
      "         \"pyhessio_version\": \"2.1.1\",\n",
      "         \"eventio_version\": \"1.0.0\",\n",
      "         \"ctapipe_svc_path\": null,\n",
      "         \"executable\": \"/home/travis/virtualenv/python3.6.7/bin/python\",\n",
      "         \"platform\": {\n",
      "            \"architecture_bits\": \"64bit\",\n",
      "            \"architecture_linkage\": \"ELF\",\n",
      "            \"machine\": \"x86_64\",\n",
      "            \"processor\": \"x86_64\",\n",
      "            \"node\": \"travis-job-d399fa77-c587-4472-acce-4628cc3d4a24\",\n",
      "            \"version\": \"#29~16.04.1-Ubuntu SMP Tue Feb 12 16:31:10 UTC 2019\",\n",
      "            \"system\": \"Linux\",\n",
      "            \"release\": \"4.15.0-1028-gcp\",\n",
      "            \"libcver\": [\n",
      "               \"glibc\",\n",
      "               \"2.3.4\"\n",
      "            ],\n",
      "            \"num_cpus\": 2,\n",
      "            \"boot_time\": \"2020-01-29T16:20:37.000\"\n",
      "         },\n",
      "         \"python\": {\n",
      "            \"version_string\": \"3.6.7 (default, Nov 28 2018, 13:38:24) \\n[GCC 5.4.0 20160609]\",\n",
      "            \"version\": [\n",
      "               \"3\",\n",
      "               \"6\",\n",
      "               \"7\"\n",
      "            ],\n",
      "            \"compiler\": \"GCC 5.4.0 20160609\",\n",
      "            \"implementation\": \"CPython\"\n",
      "         },\n",
      "         \"environment\": {\n",
      "            \"CONDA_DEFAULT_ENV\": null,\n",
      "            \"CONDA_PREFIX\": null,\n",
      "            \"CONDA_PYTHON_EXE\": null,\n",
      "            \"CONDA_EXE\": null,\n",
      "            \"CONDA_PROMPT_MODIFIER\": null,\n",
      "            \"CONDA_SHLVL\": null,\n",
      "            \"PATH\": \"/home/travis/virtualenv/python3.6.7/bin:/home/travis/bin:/home/travis/.local/bin:/usr/local/lib/jvm/openjdk11/bin:/opt/pyenv/shims:/home/travis/.phpenv/shims:/home/travis/perl5/perlbrew/bin:/home/travis/.nvm/versions/node/v8.12.0/bin:/home/travis/.rvm/gems/ruby-2.5.3/bin:/home/travis/.rvm/gems/ruby-2.5.3@global/bin:/home/travis/.rvm/rubies/ruby-2.5.3/bin:/home/travis/gopath/bin:/home/travis/.gimme/versions/go1.11.1.linux.amd64/bin:/usr/local/maven-3.6.0/bin:/usr/local/cmake-3.12.4/bin:/usr/local/clang-7.0.0/bin:/usr/local/sbin:/usr/local/bin:/usr/sbin:/usr/bin:/sbin:/bin:/snap/bin:/home/travis/.rvm/bin:/home/travis/.phpenv/bin:/opt/pyenv/bin:/home/travis/.yarn/bin\",\n",
      "            \"LD_LIBRARY_PATH\": null,\n",
      "            \"DYLD_LIBRARY_PATH\": null,\n",
      "            \"USER\": \"travis\",\n",
      "            \"HOME\": \"/home/travis\",\n",
      "            \"SHELL\": \"/bin/bash\"\n",
      "         },\n",
      "         \"arguments\": [\n",
      "            \"/home/travis/virtualenv/python3.6.7/lib/python3.6/site-packages/ipykernel_launcher.py\",\n",
      "            \"-f\",\n",
      "            \"/tmp/tmpcjusb3sg.json\",\n",
      "            \"--HistoryManager.hist_file=:memory:\"\n",
      "         ],\n",
      "         \"start_time_utc\": \"2020-01-29T16:27:59.831\"\n",
      "      },\n",
      "      \"input\": [],\n",
      "      \"output\": [],\n",
      "      \"config\": {\n",
      "         \"MyTool\": {\n",
      "            \"config_file\": \"\",\n",
      "            \"iterations\": 1,\n",
      "            \"log_datefmt\": \"%Y-%m-%d %H:%M:%S\",\n",
      "            \"log_format\": \"%(asctime)s : %(levelname)s [%(name)s %(funcName)s] %(message)s\",\n",
      "            \"log_level\": 0\n",
      "         },\n",
      "         \"MyComponent\": {\n",
      "            \"value\": -1\n",
      "         },\n",
      "         \"SecondaryMyComponent\": {\n",
      "            \"value\": -1\n",
      "         },\n",
      "         \"AdvancedComponent\": {\n",
      "            \"infile\": \"bork.txt\",\n",
      "            \"outfile\": \"\",\n",
      "            \"value1\": -1\n",
      "         }\n",
      "      },\n",
      "      \"status\": \"completed\",\n",
      "      \"duration_min\": 0.0018833333334455915\n",
      "   },\n",
      "   {\n",
      "      \"activity_name\": \"mytool\",\n",
      "      \"activity_uuid\": \"c73ac847-f150-422e-bacb-d1746108b75f\",\n",
      "      \"start\": {\n",
      "         \"time_utc\": \"2020-01-29T16:28:00.096\"\n",
      "      },\n",
      "      \"stop\": {\n",
      "         \"time_utc\": \"2020-01-29T16:28:00.624\"\n",
      "      },\n",
      "      \"system\": {\n",
      "         \"ctapipe_version\": \"0.7.0.post132+git12d768d\",\n",
      "         \"ctapipe_resources_version\": \"0.2.18\",\n",
      "         \"pyhessio_version\": \"2.1.1\",\n",
      "         \"eventio_version\": \"1.0.0\",\n",
      "         \"ctapipe_svc_path\": null,\n",
      "         \"executable\": \"/home/travis/virtualenv/python3.6.7/bin/python\",\n",
      "         \"platform\": {\n",
      "            \"architecture_bits\": \"64bit\",\n",
      "            \"architecture_linkage\": \"ELF\",\n",
      "            \"machine\": \"x86_64\",\n",
      "            \"processor\": \"x86_64\",\n",
      "            \"node\": \"travis-job-d399fa77-c587-4472-acce-4628cc3d4a24\",\n",
      "            \"version\": \"#29~16.04.1-Ubuntu SMP Tue Feb 12 16:31:10 UTC 2019\",\n",
      "            \"system\": \"Linux\",\n",
      "            \"release\": \"4.15.0-1028-gcp\",\n",
      "            \"libcver\": [\n",
      "               \"glibc\",\n",
      "               \"2.3.4\"\n",
      "            ],\n",
      "            \"num_cpus\": 2,\n",
      "            \"boot_time\": \"2020-01-29T16:20:37.000\"\n",
      "         },\n",
      "         \"python\": {\n",
      "            \"version_string\": \"3.6.7 (default, Nov 28 2018, 13:38:24) \\n[GCC 5.4.0 20160609]\",\n",
      "            \"version\": [\n",
      "               \"3\",\n",
      "               \"6\",\n",
      "               \"7\"\n",
      "            ],\n",
      "            \"compiler\": \"GCC 5.4.0 20160609\",\n",
      "            \"implementation\": \"CPython\"\n",
      "         },\n",
      "         \"environment\": {\n",
      "            \"CONDA_DEFAULT_ENV\": null,\n",
      "            \"CONDA_PREFIX\": null,\n",
      "            \"CONDA_PYTHON_EXE\": null,\n",
      "            \"CONDA_EXE\": null,\n",
      "            \"CONDA_PROMPT_MODIFIER\": null,\n",
      "            \"CONDA_SHLVL\": null,\n",
      "            \"PATH\": \"/home/travis/virtualenv/python3.6.7/bin:/home/travis/bin:/home/travis/.local/bin:/usr/local/lib/jvm/openjdk11/bin:/opt/pyenv/shims:/home/travis/.phpenv/shims:/home/travis/perl5/perlbrew/bin:/home/travis/.nvm/versions/node/v8.12.0/bin:/home/travis/.rvm/gems/ruby-2.5.3/bin:/home/travis/.rvm/gems/ruby-2.5.3@global/bin:/home/travis/.rvm/rubies/ruby-2.5.3/bin:/home/travis/gopath/bin:/home/travis/.gimme/versions/go1.11.1.linux.amd64/bin:/usr/local/maven-3.6.0/bin:/usr/local/cmake-3.12.4/bin:/usr/local/clang-7.0.0/bin:/usr/local/sbin:/usr/local/bin:/usr/sbin:/usr/bin:/sbin:/bin:/snap/bin:/home/travis/.rvm/bin:/home/travis/.phpenv/bin:/opt/pyenv/bin:/home/travis/.yarn/bin\",\n",
      "            \"LD_LIBRARY_PATH\": null,\n",
      "            \"DYLD_LIBRARY_PATH\": null,\n",
      "            \"USER\": \"travis\",\n",
      "            \"HOME\": \"/home/travis\",\n",
      "            \"SHELL\": \"/bin/bash\"\n",
      "         },\n",
      "         \"arguments\": [\n",
      "            \"/home/travis/virtualenv/python3.6.7/lib/python3.6/site-packages/ipykernel_launcher.py\",\n",
      "            \"-f\",\n",
      "            \"/tmp/tmpcjusb3sg.json\",\n",
      "            \"--HistoryManager.hist_file=:memory:\"\n",
      "         ],\n",
      "         \"start_time_utc\": \"2020-01-29T16:28:00.104\"\n",
      "      },\n",
      "      \"input\": [],\n",
      "      \"output\": [],\n",
      "      \"config\": {\n",
      "         \"MyTool\": {\n",
      "            \"config_file\": \"Tools.json\",\n",
      "            \"iterations\": 5,\n",
      "            \"log_datefmt\": \"%Y-%m-%d %H:%M:%S\",\n",
      "            \"log_format\": \"%(levelname)s [%(name)s] (%(module)s/%(funcName)s): %(message)s\",\n",
      "            \"log_level\": 10\n",
      "         },\n",
      "         \"MyComponent\": {\n",
      "            \"value\": -1\n",
      "         },\n",
      "         \"SecondaryMyComponent\": {\n",
      "            \"value\": -1\n",
      "         },\n",
      "         \"AdvancedComponent\": {\n",
      "            \"infile\": \"something.txt\",\n",
      "            \"outfile\": \"\",\n",
      "            \"value1\": -1\n",
      "         }\n",
      "      },\n",
      "      \"status\": \"completed\",\n",
      "      \"duration_min\": 0.00880000000005765\n",
      "   }\n",
      "]'\n"
     ]
    }
   ],
   "source": [
    "tool2.run(argv=['--config','Tools.json'])"
   ]
  },
  {
   "cell_type": "code",
   "execution_count": 18,
   "metadata": {},
   "outputs": [
    {
     "name": "stdout",
     "output_type": "stream",
     "text": [
      "something.txt\n"
     ]
    }
   ],
   "source": [
    "print(tool2.advanced.infile)"
   ]
  },
  {
   "cell_type": "code",
   "execution_count": 19,
   "metadata": {},
   "outputs": [
    {
     "name": "stdout",
     "output_type": "stream",
     "text": [
      "{'MyTool': {'config_file': 'Tools.json', 'log_level': 'DEBUG'}, 'AdvancedComponent': {'infile': 'something.txt'}}\n"
     ]
    }
   ],
   "source": [
    "print(tool2.config)"
   ]
  },
  {
   "cell_type": "code",
   "execution_count": null,
   "metadata": {},
   "outputs": [],
   "source": []
  },
  {
   "cell_type": "code",
   "execution_count": 20,
   "metadata": {},
   "outputs": [
    {
     "data": {
      "text/plain": [
       "True"
      ]
     },
     "execution_count": 20,
     "metadata": {},
     "output_type": "execute_result"
    }
   ],
   "source": [
    "tool2.is_setup"
   ]
  },
  {
   "cell_type": "code",
   "execution_count": 21,
   "metadata": {},
   "outputs": [],
   "source": [
    "tool3 = MyTool()"
   ]
  },
  {
   "cell_type": "code",
   "execution_count": 22,
   "metadata": {},
   "outputs": [
    {
     "data": {
      "text/plain": [
       "False"
      ]
     },
     "execution_count": 22,
     "metadata": {},
     "output_type": "execute_result"
    }
   ],
   "source": [
    "tool3.is_setup"
   ]
  },
  {
   "cell_type": "code",
   "execution_count": 23,
   "metadata": {},
   "outputs": [
    {
     "name": "stderr",
     "output_type": "stream",
     "text": [
      "2020-01-29 16:28:00 : \u001b[1;32mINFO\u001b[0m [MyTool initialize] ctapipe version 0.7.0.post132+git12d768d\n"
     ]
    }
   ],
   "source": [
    "tool3.initialize(argv=[])"
   ]
  },
  {
   "cell_type": "code",
   "execution_count": 24,
   "metadata": {},
   "outputs": [
    {
     "data": {
      "text/plain": [
       "False"
      ]
     },
     "execution_count": 24,
     "metadata": {},
     "output_type": "execute_result"
    }
   ],
   "source": [
    "tool3.is_setup"
   ]
  },
  {
   "cell_type": "code",
   "execution_count": 25,
   "metadata": {},
   "outputs": [
    {
     "data": {
      "text/html": [
       "<b>MyTool</b>\n",
       "<p> do some things and stuff </p>\n",
       "<table>\n",
       "<tr><th>config_file</th>\n",
       "<td></td>\n",
       "<td style=\"text-align:left\"><i>name of a configuration file with parameters to load in addition to command-line parameters (default: )</i></td></tr>\n",
       "<tr><th>iterations</th>\n",
       "<td>5</td>\n",
       "<td style=\"text-align:left\"><i>Number of times to run (default: 5)</i></td></tr>\n",
       "<tr><th>log_datefmt</th>\n",
       "<td>%Y-%m-%d %H:%M:%S</td>\n",
       "<td style=\"text-align:left\"><i>The date format used by logging formatters for %(asctime)s (default: %Y-%m-%d %H:%M:%S)</i></td></tr>\n",
       "<tr><th>log_format</th>\n",
       "<td>%(levelname)s [%(name)s] (%(module)s/%(funcName)s): %(message)s</td>\n",
       "<td style=\"text-align:left\"><i>The Logging format template (default: %(levelname)s [%(name)s] (%(module)s/%(funcName)s): %(message)s)</i></td></tr>\n",
       "<tr><th>log_level</th>\n",
       "<td><span style='color:blue'>20</span></td>\n",
       "<td style=\"text-align:left\"><i>Set the log level by value or name. (default: 30)</i></td></tr>\n",
       "</table>\n",
       "<p><i>Components:</i>\n",
       "MyTool, MyComponent, AdvancedComponent, SecondaryMyComponent\n",
       "</p>"
      ],
      "text/plain": [
       "<__main__.MyTool at 0x7f24a68e4e10>"
      ]
     },
     "execution_count": 25,
     "metadata": {},
     "output_type": "execute_result"
    }
   ],
   "source": [
    "tool3"
   ]
  },
  {
   "cell_type": "code",
   "execution_count": 26,
   "metadata": {},
   "outputs": [
    {
     "data": {
      "text/html": [
       "<b>MyTool</b>\n",
       "<p> do some things and stuff </p>\n",
       "<table>\n",
       "<tr><th>config_file</th>\n",
       "<td></td>\n",
       "<td style=\"text-align:left\"><i>name of a configuration file with parameters to load in addition to command-line parameters (default: )</i></td></tr>\n",
       "<tr><th>iterations</th>\n",
       "<td><span style='color:blue'>1</span></td>\n",
       "<td style=\"text-align:left\"><i>Number of times to run (default: 5)</i></td></tr>\n",
       "<tr><th>log_datefmt</th>\n",
       "<td>%Y-%m-%d %H:%M:%S</td>\n",
       "<td style=\"text-align:left\"><i>The date format used by logging formatters for %(asctime)s (default: %Y-%m-%d %H:%M:%S)</i></td></tr>\n",
       "<tr><th>log_format</th>\n",
       "<td><span style='color:blue'>%(asctime)s : %(levelname)s [%(name)s %(funcName)s] %(message)s</span></td>\n",
       "<td style=\"text-align:left\"><i>The Logging format template (default: %(levelname)s [%(name)s] (%(module)s/%(funcName)s): %(message)s)</i></td></tr>\n",
       "<tr><th>log_level</th>\n",
       "<td><span style='color:blue'>0</span></td>\n",
       "<td style=\"text-align:left\"><i>Set the log level by value or name. (default: 30)</i></td></tr>\n",
       "</table>\n",
       "<p><i>Components:</i>\n",
       "MyTool, MyComponent, AdvancedComponent, SecondaryMyComponent\n",
       "</p>"
      ],
      "text/plain": [
       "<__main__.MyTool at 0x7f24a96cf828>"
      ]
     },
     "execution_count": 26,
     "metadata": {},
     "output_type": "execute_result"
    }
   ],
   "source": [
    "tool"
   ]
  },
  {
   "cell_type": "code",
   "execution_count": 27,
   "metadata": {},
   "outputs": [
    {
     "data": {
      "text/html": [
       "<b>SecondaryMyComponent</b>\n",
       "<p> Undocumented! </p>\n",
       "<table>\n",
       "<tr><th>value</th>\n",
       "<td>-1</td>\n",
       "<td style=\"text-align:left\"><i>Value to use (default: -1)</i></td></tr>\n",
       "</table>"
      ],
      "text/plain": [
       "<__main__.SecondaryMyComponent at 0x7f24a68e43c8>"
      ]
     },
     "execution_count": 27,
     "metadata": {},
     "output_type": "execute_result"
    }
   ],
   "source": [
    "tool.comp2"
   ]
  },
  {
   "cell_type": "markdown",
   "metadata": {},
   "source": [
    "## Getting the configuration of an instance"
   ]
  },
  {
   "cell_type": "code",
   "execution_count": 28,
   "metadata": {},
   "outputs": [
    {
     "data": {
      "text/plain": [
       "{'MyTool': {'config_file': '',\n",
       "  'iterations': 1,\n",
       "  'log_datefmt': '%Y-%m-%d %H:%M:%S',\n",
       "  'log_format': '%(asctime)s : %(levelname)s [%(name)s %(funcName)s] %(message)s',\n",
       "  'log_level': 0},\n",
       " 'MyComponent': {'value': -1},\n",
       " 'SecondaryMyComponent': {'value': -1},\n",
       " 'AdvancedComponent': {'infile': 'bork.txt',\n",
       "  'outfile': 'Another.txt',\n",
       "  'value1': -1}}"
      ]
     },
     "execution_count": 28,
     "metadata": {},
     "output_type": "execute_result"
    }
   ],
   "source": [
    "tool.get_current_config()"
   ]
  },
  {
   "cell_type": "code",
   "execution_count": 29,
   "metadata": {},
   "outputs": [
    {
     "data": {
      "text/plain": [
       "{'MyTool': {'config_file': '',\n",
       "  'iterations': 12,\n",
       "  'log_datefmt': '%Y-%m-%d %H:%M:%S',\n",
       "  'log_format': '%(asctime)s : %(levelname)s [%(name)s %(funcName)s] %(message)s',\n",
       "  'log_level': 0},\n",
       " 'MyComponent': {'value': -1},\n",
       " 'SecondaryMyComponent': {'value': -1},\n",
       " 'AdvancedComponent': {'infile': 'bork.txt',\n",
       "  'outfile': 'Another.txt',\n",
       "  'value1': -1}}"
      ]
     },
     "execution_count": 29,
     "metadata": {},
     "output_type": "execute_result"
    }
   ],
   "source": [
    "tool.iterations = 12\n",
    "tool.get_current_config()"
   ]
  },
  {
   "cell_type": "markdown",
   "metadata": {},
   "source": [
    "## Writing a Sample Config File"
   ]
  },
  {
   "cell_type": "code",
   "execution_count": 30,
   "metadata": {},
   "outputs": [
    {
     "name": "stdout",
     "output_type": "stream",
     "text": [
      "# Configuration file for mytool.\n",
      "\n",
      "#------------------------------------------------------------------------------\n",
      "# Application(SingletonConfigurable) configuration\n",
      "#------------------------------------------------------------------------------\n",
      "\n",
      "## This is an application.\n",
      "\n",
      "## The date format used by logging formatters for %(asctime)s\n",
      "#c.Application.log_datefmt = '%Y-%m-%d %H:%M:%S'\n",
      "\n",
      "## The Logging format template\n",
      "#c.Application.log_format = '[%(name)s]%(highlevel)s %(message)s'\n",
      "\n",
      "## Set the log level by value or name.\n",
      "#c.Application.log_level = 30\n",
      "\n",
      "#------------------------------------------------------------------------------\n",
      "# Tool(Application) configuration\n",
      "#------------------------------------------------------------------------------\n",
      "\n",
      "## This is an application.\n",
      "\n",
      "## name of a configuration file with parameters to load in addition to command-\n",
      "#  line parameters\n",
      "#c.Tool.config_file = ''\n",
      "\n",
      "## The Logging format template\n",
      "#c.Tool.log_format = '%(levelname)s [%(name)s] (%(module)s/%(funcName)s): %(message)s'\n",
      "\n",
      "#------------------------------------------------------------------------------\n",
      "# MyTool(Tool) configuration\n",
      "#------------------------------------------------------------------------------\n",
      "\n",
      "## Number of times to run\n",
      "#c.MyTool.iterations = 5\n",
      "\n",
      "#------------------------------------------------------------------------------\n",
      "# MyComponent(Component) configuration\n",
      "#------------------------------------------------------------------------------\n",
      "\n",
      "## A Component that does stuff\n",
      "\n",
      "## Value to use\n",
      "#c.MyComponent.value = -1\n",
      "\n",
      "#------------------------------------------------------------------------------\n",
      "# AdvancedComponent(Component) configuration\n",
      "#------------------------------------------------------------------------------\n",
      "\n",
      "## An advanced technique\n",
      "\n",
      "## input file name\n",
      "#c.AdvancedComponent.infile = ''\n",
      "\n",
      "## output file name\n",
      "#c.AdvancedComponent.outfile = ''\n",
      "\n",
      "## Value to use\n",
      "#c.AdvancedComponent.value1 = -1\n",
      "\n",
      "#------------------------------------------------------------------------------\n",
      "# SecondaryMyComponent(MyComponent) configuration\n",
      "#------------------------------------------------------------------------------\n",
      "\n"
     ]
    }
   ],
   "source": [
    "print(tool.generate_config_file())"
   ]
  }
 ],
 "metadata": {
  "kernelspec": {
   "display_name": "Python 3",
   "language": "python",
   "name": "python3"
  },
  "language_info": {
   "codemirror_mode": {
    "name": "ipython",
    "version": 3
   },
   "file_extension": ".py",
   "mimetype": "text/x-python",
   "name": "python",
   "nbconvert_exporter": "python",
   "pygments_lexer": "ipython3",
   "version": "3.6.7"
  }
 },
 "nbformat": 4,
 "nbformat_minor": 2
}
